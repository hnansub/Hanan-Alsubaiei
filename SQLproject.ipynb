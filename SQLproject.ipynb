{
  "nbformat": 4,
  "nbformat_minor": 0,
  "metadata": {
    "colab": {
      "provenance": [],
      "authorship_tag": "ABX9TyOeH9wIcZ8jgPG3ii0KpaBR",
      "include_colab_link": true
    },
    "kernelspec": {
      "name": "python3",
      "display_name": "Python 3"
    },
    "language_info": {
      "name": "python"
    }
  },
  "cells": [
    {
      "cell_type": "markdown",
      "metadata": {
        "id": "view-in-github",
        "colab_type": "text"
      },
      "source": [
        "<a href=\"https://colab.research.google.com/github/hnansub/Hanan-Alsubaiei/blob/main/SQLproject.ipynb\" target=\"_parent\"><img src=\"https://colab.research.google.com/assets/colab-badge.svg\" alt=\"Open In Colab\"/></a>"
      ]
    },
    {
      "cell_type": "code",
      "execution_count": 1,
      "metadata": {
        "id": "oap5-KrX5ki6"
      },
      "outputs": [],
      "source": [
        "# 1. Import libraiers:\n",
        "import sqlite3\n",
        "from sqlite3 import Error"
      ]
    },
    {
      "cell_type": "code",
      "source": [
        "# 2. Create function to create new connection:\n",
        "def create_connection(path):\n",
        "    connection = None\n",
        "    try:\n",
        "        connection = sqlite3.connect(path)\n",
        "        print(\"Connection to SQLite DB successful\")\n",
        "    except Error as e:\n",
        "        print(f\"The error '{e}' occurred\")\n",
        "\n",
        "    return connection\n",
        "\n",
        "\n",
        "connection = create_connection(\"data.sqlite\")"
      ],
      "metadata": {
        "colab": {
          "base_uri": "https://localhost:8080/"
        },
        "id": "B77dfLMG538d",
        "outputId": "c6133fad-da0f-4e55-f63c-83722b0eb04c"
      },
      "execution_count": 2,
      "outputs": [
        {
          "output_type": "stream",
          "name": "stdout",
          "text": [
            "Connection to SQLite DB successful\n"
          ]
        }
      ]
    },
    {
      "cell_type": "code",
      "source": [
        "# 3. Create function to excute queries:\n",
        "def execute_query(connection, query):\n",
        "    cursor = connection.cursor()\n",
        "    try:\n",
        "        cursor.execute(query)\n",
        "        connection.commit()\n",
        "        print(\"Query executed successfully\")\n",
        "    except Error as e:\n",
        "        print(f\"The error '{e}' occurred\")\n",
        "\n",
        "\n",
        "def execute_read_query(connection, query):\n",
        "    cursor = connection.cursor()\n",
        "    result = None\n",
        "    try:\n",
        "        cursor.execute(query)\n",
        "        result = cursor.fetchall()\n",
        "        return result\n",
        "    except Error as e:\n",
        "        print(f\"The error '{e}' occurred\")\n"
      ],
      "metadata": {
        "id": "rQWGQH9MBc0P"
      },
      "execution_count": 3,
      "outputs": []
    },
    {
      "cell_type": "code",
      "source": [
        "# 4. Create queries for creating tables:\n",
        "\n",
        "create_users_table = \"\"\"\n",
        "CREATE TABLE IF NOT EXISTS users (\n",
        "  id INTEGER PRIMARY KEY AUTOINCREMENT,\n",
        "  name TEXT NOT NULL,\n",
        "  age INTEGER,\n",
        "  gender TEXT,\n",
        "  nationality TEXT\n",
        ");\n",
        "\"\"\"\n",
        "\n",
        "create_posts_table = \"\"\"\n",
        "CREATE TABLE IF NOT EXISTS posts(\n",
        "  id INTEGER PRIMARY KEY AUTOINCREMENT,\n",
        "  title TEXT NOT NULL,\n",
        "  description TEXT NOT NULL,\n",
        "  user_id INTEGER NOT NULL,\n",
        "  FOREIGN KEY (user_id) REFERENCES users (id)\n",
        ");\n",
        "\"\"\"\n",
        "\n",
        "create_comments_table = \"\"\"\n",
        "CREATE TABLE IF NOT EXISTS comments (\n",
        "  id INTEGER PRIMARY KEY AUTOINCREMENT,\n",
        "  text TEXT NOT NULL,\n",
        "  user_id INTEGER NOT NULL,\n",
        "  post_id INTEGER NOT NULL,\n",
        "  FOREIGN KEY (user_id) REFERENCES users (id) FOREIGN KEY (post_id) REFERENCES posts (id)\n",
        ");\n",
        "\"\"\"\n",
        "\n",
        "create_likes_table = \"\"\"\n",
        "CREATE TABLE IF NOT EXISTS likes (\n",
        "  id INTEGER PRIMARY KEY AUTOINCREMENT,\n",
        "  user_id INTEGER NOT NULL,\n",
        "  post_id integer NOT NULL,\n",
        "  FOREIGN KEY (user_id) REFERENCES users (id) FOREIGN KEY (post_id) REFERENCES posts (id)\n",
        ");\n",
        "\"\"\"\n",
        "\n",
        "execute_query(connection, create_users_table)\n",
        "execute_query(connection, create_posts_table)\n",
        "execute_query(connection, create_comments_table)\n",
        "execute_query(connection, create_likes_table)"
      ],
      "metadata": {
        "colab": {
          "base_uri": "https://localhost:8080/"
        },
        "id": "ChT0Q0SgEMrd",
        "outputId": "2d091b93-02c6-401c-8301-946c13736fd7"
      },
      "execution_count": 4,
      "outputs": [
        {
          "output_type": "stream",
          "name": "stdout",
          "text": [
            "Query executed successfully\n",
            "Query executed successfully\n",
            "Query executed successfully\n",
            "Query executed successfully\n"
          ]
        }
      ]
    },
    {
      "cell_type": "code",
      "source": [
        "# 4. Create INSERT queries:\n",
        "\n",
        "create_users = \"\"\"\n",
        "INSERT INTO\n",
        "  users (name, age, gender, nationality)\n",
        "VALUES\n",
        "  ('James', 25, 'male', 'USA'),\n",
        "  ('Leila', 32, 'female', 'France'),\n",
        "  ('Brigitte', 35, 'female', 'England'),\n",
        "  ('Mike', 40, 'male', 'Denmark'),\n",
        "  ('Elizabeth', 21, 'female', 'Canada');\n",
        "\"\"\"\n",
        "\n",
        "create_posts = \"\"\"\n",
        "INSERT INTO\n",
        "  posts (title, description, user_id)\n",
        "VALUES\n",
        "  (\"Happy\", \"I am feeling very happy today\", 1),\n",
        "  (\"Hot Weather\", \"The weather is very hot today\", 2),\n",
        "  (\"Help\", \"I need some help with my work\", 2),\n",
        "  (\"Great News\", \"I am getting married\", 1),\n",
        "  (\"Interesting Game\", \"It was a fantastic game of tennis\", 5),\n",
        "  (\"Party\", \"Anyone up for a late-night party today?\", 3);\n",
        "\"\"\"\n",
        "\n",
        "create_comments = \"\"\"\n",
        "INSERT INTO\n",
        "  comments (text, user_id, post_id)\n",
        "VALUES\n",
        "  ('Count me in', 1, 6),\n",
        "  ('What sort of help?', 5, 3),\n",
        "  ('Congrats buddy', 2, 4),\n",
        "  ('I was rooting for Nadal though', 4, 5),\n",
        "  ('Help with your thesis?', 2, 3),\n",
        "  ('Many congratulations', 5, 4);\n",
        "\"\"\"\n",
        "\n",
        "create_likes = \"\"\"\n",
        "INSERT INTO\n",
        "  likes (user_id, post_id)\n",
        "VALUES\n",
        "  (1, 6),\n",
        "  (2, 3),\n",
        "  (1, 5),\n",
        "  (5, 4),\n",
        "  (2, 4),\n",
        "  (4, 2),\n",
        "  (3, 6);\n",
        "\"\"\"\n",
        "execute_query(connection, create_users)\n",
        "execute_query(connection, create_posts)\n",
        "execute_query(connection, create_comments)\n",
        "execute_query(connection, create_likes)"
      ],
      "metadata": {
        "colab": {
          "base_uri": "https://localhost:8080/"
        },
        "id": "EvOCVJrJEY1Z",
        "outputId": "385494b2-f96a-43ea-a4fb-dd9f67707111"
      },
      "execution_count": 5,
      "outputs": [
        {
          "output_type": "stream",
          "name": "stdout",
          "text": [
            "Query executed successfully\n",
            "Query executed successfully\n",
            "Query executed successfully\n",
            "Query executed successfully\n"
          ]
        }
      ]
    },
    {
      "cell_type": "code",
      "source": [
        "# 5. Create SELECT queries:\n",
        "\n",
        "select_users = \"SELECT * from users\"\n",
        "users = execute_read_query(connection, select_users)\n",
        "for user in users:\n",
        "    print(user)\n",
        "\n",
        "select_posts = \"SELECT * FROM posts\"\n",
        "posts = execute_read_query(connection, select_posts)\n",
        "for post in posts:\n",
        "    print(post)\n"
      ],
      "metadata": {
        "colab": {
          "base_uri": "https://localhost:8080/"
        },
        "id": "PE74sC5sEiPh",
        "outputId": "ec5cc72d-9721-4d56-dcb0-3a776f9e40a6"
      },
      "execution_count": 7,
      "outputs": [
        {
          "output_type": "stream",
          "name": "stdout",
          "text": [
            "(1, 'James', 25, 'male', 'USA')\n",
            "(2, 'Leila', 32, 'female', 'France')\n",
            "(3, 'Brigitte', 35, 'female', 'England')\n",
            "(4, 'Mike', 40, 'male', 'Denmark')\n",
            "(5, 'Elizabeth', 21, 'female', 'Canada')\n",
            "(1, 'Happy', 'I am feeling very happy today', 1)\n",
            "(2, 'Hot Weather', 'The weather is very hot today', 2)\n",
            "(3, 'Help', 'I need some help with my work', 2)\n",
            "(4, 'Great News', 'I am getting married', 1)\n",
            "(5, 'Interesting Game', 'It was a fantastic game of tennis', 5)\n",
            "(6, 'Party', 'Anyone up for a late-night party today?', 3)\n"
          ]
        }
      ]
    },
    {
      "cell_type": "code",
      "source": [
        "select_users_posts = \"\"\"\n",
        "SELECT\n",
        "  users.id,\n",
        "  users.name,\n",
        "  posts.description\n",
        "FROM\n",
        "  posts\n",
        "  INNER JOIN users ON users.id = posts.user_id\n",
        "\"\"\"\n",
        "\n",
        "users_posts = execute_read_query(connection, select_users_posts)\n",
        "for users_post in users_posts:\n",
        "    print(users_post)"
      ],
      "metadata": {
        "colab": {
          "base_uri": "https://localhost:8080/"
        },
        "id": "Gh2F5nCCFQ71",
        "outputId": "c378801c-7940-455a-aee7-dea7a71d8f04"
      },
      "execution_count": 8,
      "outputs": [
        {
          "output_type": "stream",
          "name": "stdout",
          "text": [
            "(1, 'James', 'I am feeling very happy today')\n",
            "(2, 'Leila', 'The weather is very hot today')\n",
            "(2, 'Leila', 'I need some help with my work')\n",
            "(1, 'James', 'I am getting married')\n",
            "(5, 'Elizabeth', 'It was a fantastic game of tennis')\n",
            "(3, 'Brigitte', 'Anyone up for a late-night party today?')\n"
          ]
        }
      ]
    },
    {
      "cell_type": "code",
      "source": [
        "select_posts_comments_users = \"\"\"\n",
        "SELECT\n",
        "  posts.description as post,\n",
        "  text as comment,\n",
        "  name\n",
        "FROM\n",
        "  posts\n",
        "  INNER JOIN comments ON posts.id = comments.post_id\n",
        "  INNER JOIN users ON users.id = comments.user_id\n",
        "\"\"\"\n",
        "\n",
        "posts_comments_users = execute_read_query(connection, select_posts_comments_users)\n",
        "for posts_comments_user in posts_comments_users:\n",
        "    print(posts_comments_user)"
      ],
      "metadata": {
        "colab": {
          "base_uri": "https://localhost:8080/"
        },
        "id": "shmWIOhIFZQ0",
        "outputId": "b78ae679-64eb-406b-d8cc-0f648a8027b1"
      },
      "execution_count": 9,
      "outputs": [
        {
          "output_type": "stream",
          "name": "stdout",
          "text": [
            "('Anyone up for a late-night party today?', 'Count me in', 'James')\n",
            "('I need some help with my work', 'What sort of help?', 'Elizabeth')\n",
            "('I am getting married', 'Congrats buddy', 'Leila')\n",
            "('It was a fantastic game of tennis', 'I was rooting for Nadal though', 'Mike')\n",
            "('I need some help with my work', 'Help with your thesis?', 'Leila')\n",
            "('I am getting married', 'Many congratulations', 'Elizabeth')\n"
          ]
        }
      ]
    },
    {
      "cell_type": "code",
      "source": [
        "# 6. Create SELECT queries with WHERE:\n",
        "select_post_likes = \"\"\"\n",
        "SELECT\n",
        "  description as Post,\n",
        "  COUNT(likes.id) as Likes\n",
        "FROM\n",
        "  likes,\n",
        "  posts\n",
        "WHERE\n",
        "  posts.id = likes.post_id\n",
        "GROUP BY\n",
        "  likes.post_id\n",
        "\"\"\"\n",
        "\n",
        "post_likes = execute_read_query(connection, select_post_likes)\n",
        "for post_like in post_likes:\n",
        "    print(post_like)"
      ],
      "metadata": {
        "colab": {
          "base_uri": "https://localhost:8080/"
        },
        "id": "2dxjDecfF3wP",
        "outputId": "834cb6f4-fd90-470c-83de-0d530fa875f5"
      },
      "execution_count": 12,
      "outputs": [
        {
          "output_type": "stream",
          "name": "stdout",
          "text": [
            "('The weather is very hot today', 1)\n",
            "('I need some help with my work', 1)\n",
            "('I am getting married', 2)\n",
            "('It was a fantastic game of tennis', 1)\n",
            "('Anyone up for a late-night party today?', 2)\n"
          ]
        }
      ]
    },
    {
      "cell_type": "code",
      "source": [
        "# 7. Update records using SELECT:\n",
        "select_post_description = \"SELECT description FROM posts WHERE id = 2\"\n",
        "\n",
        "post_description = execute_read_query(connection, select_post_description)\n",
        "for description in post_description:\n",
        "    print(description)\n",
        "\n",
        "update_post_description = \"\"\"\n",
        "UPDATE\n",
        "  posts\n",
        "SET\n",
        "  description = \"The weather has become pleasant now\"\n",
        "WHERE\n",
        "  id = 2\n",
        "\"\"\"\n",
        "\n",
        "execute_query(connection, update_post_description)\n"
      ],
      "metadata": {
        "colab": {
          "base_uri": "https://localhost:8080/"
        },
        "id": "XDCJbgxyGE0Q",
        "outputId": "5d14df31-33cf-45dc-b609-0bf5c2b3c98c"
      },
      "execution_count": 13,
      "outputs": [
        {
          "output_type": "stream",
          "name": "stdout",
          "text": [
            "('The weather is very hot today',)\n",
            "Query executed successfully\n"
          ]
        }
      ]
    },
    {
      "cell_type": "code",
      "source": [
        "# 8. Delete records using SELECT:\n",
        "delete_comment = \"DELETE FROM comments WHERE id = 2\"\n",
        "execute_query(connection, delete_comment)\n",
        "select_posts = \"SELECT * FROM comments\"\n",
        "posts = execute_read_query(connection, select_posts)\n",
        "for post in posts:\n",
        "    print(post)\n"
      ],
      "metadata": {
        "colab": {
          "base_uri": "https://localhost:8080/"
        },
        "id": "ca8OS8uzGKHh",
        "outputId": "9c5e8361-116c-42e0-d19a-e1b047962871"
      },
      "execution_count": 15,
      "outputs": [
        {
          "output_type": "stream",
          "name": "stdout",
          "text": [
            "Query executed successfully\n",
            "(1, 'Count me in', 1, 6)\n",
            "(3, 'Congrats buddy', 2, 4)\n",
            "(4, 'I was rooting for Nadal though', 4, 5)\n",
            "(5, 'Help with your thesis?', 2, 3)\n",
            "(6, 'Many congratulations', 5, 4)\n"
          ]
        }
      ]
    }
  ]
}