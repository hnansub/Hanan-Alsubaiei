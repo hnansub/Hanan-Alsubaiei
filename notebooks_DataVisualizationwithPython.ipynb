{
  "metadata": {
    "kernelspec": {
      "name": "python",
      "display_name": "Python (Pyodide)",
      "language": "python"
    },
    "language_info": {
      "codemirror_mode": {
        "name": "python",
        "version": 3
      },
      "file_extension": ".py",
      "mimetype": "text/x-python",
      "name": "python",
      "nbconvert_exporter": "python",
      "pygments_lexer": "ipython3",
      "version": "3.8"
    }
  },
  "nbformat_minor": 5,
  "nbformat": 4,
  "cells": [
    {
      "cell_type": "markdown",
      "source": "<h1> Data Visualization with Python </h1>\nAmani Abbas",
      "metadata": {},
      "id": "fatal-yorkshire"
    },
    {
      "cell_type": "markdown",
      "source": "Let's read our data file using Pandas",
      "metadata": {},
      "id": "worth-scott"
    },
    {
      "cell_type": "code",
      "source": "import pandas as pd",
      "metadata": {
        "trusted": true
      },
      "execution_count": 2,
      "outputs": [],
      "id": "median-softball"
    },
    {
      "cell_type": "code",
      "source": "df = pd.read_csv(\"Canada.csv\")",
      "metadata": {
        "trusted": true
      },
      "execution_count": 3,
      "outputs": [],
      "id": "cross-outdoors"
    },
    {
      "cell_type": "code",
      "source": "df.head()",
      "metadata": {
        "collapsed": true,
        "jupyter": {
          "outputs_hidden": true
        },
        "tags": [],
        "trusted": true
      },
      "execution_count": 4,
      "outputs": [
        {
          "execution_count": 4,
          "output_type": "execute_result",
          "data": {
            "text/plain": "         Type    Coverage          OdName  AREA AreaName   REG  \\\n0  Immigrants  Foreigners     Afghanistan   935     Asia  5501   \n1  Immigrants  Foreigners         Albania   908   Europe   925   \n2  Immigrants  Foreigners         Algeria   903   Africa   912   \n3  Immigrants  Foreigners  American Samoa   909  Oceania   957   \n4  Immigrants  Foreigners         Andorra   908   Europe   925   \n\n           RegName  DEV             DevName  1980  ...  2004  2005  2006  \\\n0    Southern Asia  902  Developing regions    16  ...  2978  3436  3009   \n1  Southern Europe  901   Developed regions     1  ...  1450  1223   856   \n2  Northern Africa  902  Developing regions    80  ...  3616  3626  4807   \n3        Polynesia  902  Developing regions     0  ...     0     0     1   \n4  Southern Europe  901   Developed regions     0  ...     0     0     1   \n\n   2007  2008  2009  2010  2011  2012  2013  \n0  2652  2111  1746  1758  2203  2635  2004  \n1   702   560   716   561   539   620   603  \n2  3623  4005  5393  4752  4325  3774  4331  \n3     0     0     0     0     0     0     0  \n4     1     0     0     0     0     1     1  \n\n[5 rows x 43 columns]",
            "text/html": "<div>\n<style scoped>\n    .dataframe tbody tr th:only-of-type {\n        vertical-align: middle;\n    }\n\n    .dataframe tbody tr th {\n        vertical-align: top;\n    }\n\n    .dataframe thead th {\n        text-align: right;\n    }\n</style>\n<table border=\"1\" class=\"dataframe\">\n  <thead>\n    <tr style=\"text-align: right;\">\n      <th></th>\n      <th>Type</th>\n      <th>Coverage</th>\n      <th>OdName</th>\n      <th>AREA</th>\n      <th>AreaName</th>\n      <th>REG</th>\n      <th>RegName</th>\n      <th>DEV</th>\n      <th>DevName</th>\n      <th>1980</th>\n      <th>...</th>\n      <th>2004</th>\n      <th>2005</th>\n      <th>2006</th>\n      <th>2007</th>\n      <th>2008</th>\n      <th>2009</th>\n      <th>2010</th>\n      <th>2011</th>\n      <th>2012</th>\n      <th>2013</th>\n    </tr>\n  </thead>\n  <tbody>\n    <tr>\n      <th>0</th>\n      <td>Immigrants</td>\n      <td>Foreigners</td>\n      <td>Afghanistan</td>\n      <td>935</td>\n      <td>Asia</td>\n      <td>5501</td>\n      <td>Southern Asia</td>\n      <td>902</td>\n      <td>Developing regions</td>\n      <td>16</td>\n      <td>...</td>\n      <td>2978</td>\n      <td>3436</td>\n      <td>3009</td>\n      <td>2652</td>\n      <td>2111</td>\n      <td>1746</td>\n      <td>1758</td>\n      <td>2203</td>\n      <td>2635</td>\n      <td>2004</td>\n    </tr>\n    <tr>\n      <th>1</th>\n      <td>Immigrants</td>\n      <td>Foreigners</td>\n      <td>Albania</td>\n      <td>908</td>\n      <td>Europe</td>\n      <td>925</td>\n      <td>Southern Europe</td>\n      <td>901</td>\n      <td>Developed regions</td>\n      <td>1</td>\n      <td>...</td>\n      <td>1450</td>\n      <td>1223</td>\n      <td>856</td>\n      <td>702</td>\n      <td>560</td>\n      <td>716</td>\n      <td>561</td>\n      <td>539</td>\n      <td>620</td>\n      <td>603</td>\n    </tr>\n    <tr>\n      <th>2</th>\n      <td>Immigrants</td>\n      <td>Foreigners</td>\n      <td>Algeria</td>\n      <td>903</td>\n      <td>Africa</td>\n      <td>912</td>\n      <td>Northern Africa</td>\n      <td>902</td>\n      <td>Developing regions</td>\n      <td>80</td>\n      <td>...</td>\n      <td>3616</td>\n      <td>3626</td>\n      <td>4807</td>\n      <td>3623</td>\n      <td>4005</td>\n      <td>5393</td>\n      <td>4752</td>\n      <td>4325</td>\n      <td>3774</td>\n      <td>4331</td>\n    </tr>\n    <tr>\n      <th>3</th>\n      <td>Immigrants</td>\n      <td>Foreigners</td>\n      <td>American Samoa</td>\n      <td>909</td>\n      <td>Oceania</td>\n      <td>957</td>\n      <td>Polynesia</td>\n      <td>902</td>\n      <td>Developing regions</td>\n      <td>0</td>\n      <td>...</td>\n      <td>0</td>\n      <td>0</td>\n      <td>1</td>\n      <td>0</td>\n      <td>0</td>\n      <td>0</td>\n      <td>0</td>\n      <td>0</td>\n      <td>0</td>\n      <td>0</td>\n    </tr>\n    <tr>\n      <th>4</th>\n      <td>Immigrants</td>\n      <td>Foreigners</td>\n      <td>Andorra</td>\n      <td>908</td>\n      <td>Europe</td>\n      <td>925</td>\n      <td>Southern Europe</td>\n      <td>901</td>\n      <td>Developed regions</td>\n      <td>0</td>\n      <td>...</td>\n      <td>0</td>\n      <td>0</td>\n      <td>1</td>\n      <td>1</td>\n      <td>0</td>\n      <td>0</td>\n      <td>0</td>\n      <td>0</td>\n      <td>1</td>\n      <td>1</td>\n    </tr>\n  </tbody>\n</table>\n<p>5 rows × 43 columns</p>\n</div>"
          },
          "metadata": {}
        }
      ],
      "id": "configured-weapon"
    },
    {
      "cell_type": "code",
      "source": "df.drop(['Type', 'Coverage', 'AREA', 'REG', 'RegName','DEV', 'DevName'], axis=1, inplace=True) ",
      "metadata": {
        "tags": [],
        "trusted": true
      },
      "execution_count": 5,
      "outputs": [],
      "id": "executed-reading"
    },
    {
      "cell_type": "code",
      "source": "df.head()",
      "metadata": {
        "tags": [],
        "collapsed": true,
        "jupyter": {
          "outputs_hidden": true
        },
        "trusted": true
      },
      "execution_count": 6,
      "outputs": [
        {
          "execution_count": 6,
          "output_type": "execute_result",
          "data": {
            "text/plain": "           OdName AreaName  1980  1981  1982  1983  1984  1985  1986  1987  \\\n0     Afghanistan     Asia    16    39    39    47    71   340   496   741   \n1         Albania   Europe     1     0     0     0     0     0     1     2   \n2         Algeria   Africa    80    67    71    69    63    44    69   132   \n3  American Samoa  Oceania     0     1     0     0     0     0     0     1   \n4         Andorra   Europe     0     0     0     0     0     0     2     0   \n\n   ...  2004  2005  2006  2007  2008  2009  2010  2011  2012  2013  \n0  ...  2978  3436  3009  2652  2111  1746  1758  2203  2635  2004  \n1  ...  1450  1223   856   702   560   716   561   539   620   603  \n2  ...  3616  3626  4807  3623  4005  5393  4752  4325  3774  4331  \n3  ...     0     0     1     0     0     0     0     0     0     0  \n4  ...     0     0     1     1     0     0     0     0     1     1  \n\n[5 rows x 36 columns]",
            "text/html": "<div>\n<style scoped>\n    .dataframe tbody tr th:only-of-type {\n        vertical-align: middle;\n    }\n\n    .dataframe tbody tr th {\n        vertical-align: top;\n    }\n\n    .dataframe thead th {\n        text-align: right;\n    }\n</style>\n<table border=\"1\" class=\"dataframe\">\n  <thead>\n    <tr style=\"text-align: right;\">\n      <th></th>\n      <th>OdName</th>\n      <th>AreaName</th>\n      <th>1980</th>\n      <th>1981</th>\n      <th>1982</th>\n      <th>1983</th>\n      <th>1984</th>\n      <th>1985</th>\n      <th>1986</th>\n      <th>1987</th>\n      <th>...</th>\n      <th>2004</th>\n      <th>2005</th>\n      <th>2006</th>\n      <th>2007</th>\n      <th>2008</th>\n      <th>2009</th>\n      <th>2010</th>\n      <th>2011</th>\n      <th>2012</th>\n      <th>2013</th>\n    </tr>\n  </thead>\n  <tbody>\n    <tr>\n      <th>0</th>\n      <td>Afghanistan</td>\n      <td>Asia</td>\n      <td>16</td>\n      <td>39</td>\n      <td>39</td>\n      <td>47</td>\n      <td>71</td>\n      <td>340</td>\n      <td>496</td>\n      <td>741</td>\n      <td>...</td>\n      <td>2978</td>\n      <td>3436</td>\n      <td>3009</td>\n      <td>2652</td>\n      <td>2111</td>\n      <td>1746</td>\n      <td>1758</td>\n      <td>2203</td>\n      <td>2635</td>\n      <td>2004</td>\n    </tr>\n    <tr>\n      <th>1</th>\n      <td>Albania</td>\n      <td>Europe</td>\n      <td>1</td>\n      <td>0</td>\n      <td>0</td>\n      <td>0</td>\n      <td>0</td>\n      <td>0</td>\n      <td>1</td>\n      <td>2</td>\n      <td>...</td>\n      <td>1450</td>\n      <td>1223</td>\n      <td>856</td>\n      <td>702</td>\n      <td>560</td>\n      <td>716</td>\n      <td>561</td>\n      <td>539</td>\n      <td>620</td>\n      <td>603</td>\n    </tr>\n    <tr>\n      <th>2</th>\n      <td>Algeria</td>\n      <td>Africa</td>\n      <td>80</td>\n      <td>67</td>\n      <td>71</td>\n      <td>69</td>\n      <td>63</td>\n      <td>44</td>\n      <td>69</td>\n      <td>132</td>\n      <td>...</td>\n      <td>3616</td>\n      <td>3626</td>\n      <td>4807</td>\n      <td>3623</td>\n      <td>4005</td>\n      <td>5393</td>\n      <td>4752</td>\n      <td>4325</td>\n      <td>3774</td>\n      <td>4331</td>\n    </tr>\n    <tr>\n      <th>3</th>\n      <td>American Samoa</td>\n      <td>Oceania</td>\n      <td>0</td>\n      <td>1</td>\n      <td>0</td>\n      <td>0</td>\n      <td>0</td>\n      <td>0</td>\n      <td>0</td>\n      <td>1</td>\n      <td>...</td>\n      <td>0</td>\n      <td>0</td>\n      <td>1</td>\n      <td>0</td>\n      <td>0</td>\n      <td>0</td>\n      <td>0</td>\n      <td>0</td>\n      <td>0</td>\n      <td>0</td>\n    </tr>\n    <tr>\n      <th>4</th>\n      <td>Andorra</td>\n      <td>Europe</td>\n      <td>0</td>\n      <td>0</td>\n      <td>0</td>\n      <td>0</td>\n      <td>0</td>\n      <td>0</td>\n      <td>2</td>\n      <td>0</td>\n      <td>...</td>\n      <td>0</td>\n      <td>0</td>\n      <td>1</td>\n      <td>1</td>\n      <td>0</td>\n      <td>0</td>\n      <td>0</td>\n      <td>0</td>\n      <td>1</td>\n      <td>1</td>\n    </tr>\n  </tbody>\n</table>\n<p>5 rows × 36 columns</p>\n</div>"
          },
          "metadata": {}
        }
      ],
      "id": "empirical-advertiser"
    },
    {
      "cell_type": "code",
      "source": "df.rename(columns={'OdName':'Country','AreaName': 'Continent'}, inplace=True)",
      "metadata": {
        "tags": [],
        "trusted": true
      },
      "execution_count": 9,
      "outputs": [],
      "id": "4e4470bb-b901-4027-90b5-dc4473b483dc"
    },
    {
      "cell_type": "code",
      "source": "df.head()",
      "metadata": {
        "tags": [],
        "collapsed": true,
        "jupyter": {
          "outputs_hidden": true
        },
        "trusted": true
      },
      "execution_count": 10,
      "outputs": [
        {
          "execution_count": 10,
          "output_type": "execute_result",
          "data": {
            "text/plain": "          Country Continent  1980  1981  1982  1983  1984  1985  1986  1987  \\\n0     Afghanistan      Asia    16    39    39    47    71   340   496   741   \n1         Albania    Europe     1     0     0     0     0     0     1     2   \n2         Algeria    Africa    80    67    71    69    63    44    69   132   \n3  American Samoa   Oceania     0     1     0     0     0     0     0     1   \n4         Andorra    Europe     0     0     0     0     0     0     2     0   \n\n   ...  2004  2005  2006  2007  2008  2009  2010  2011  2012  2013  \n0  ...  2978  3436  3009  2652  2111  1746  1758  2203  2635  2004  \n1  ...  1450  1223   856   702   560   716   561   539   620   603  \n2  ...  3616  3626  4807  3623  4005  5393  4752  4325  3774  4331  \n3  ...     0     0     1     0     0     0     0     0     0     0  \n4  ...     0     0     1     1     0     0     0     0     1     1  \n\n[5 rows x 36 columns]",
            "text/html": "<div>\n<style scoped>\n    .dataframe tbody tr th:only-of-type {\n        vertical-align: middle;\n    }\n\n    .dataframe tbody tr th {\n        vertical-align: top;\n    }\n\n    .dataframe thead th {\n        text-align: right;\n    }\n</style>\n<table border=\"1\" class=\"dataframe\">\n  <thead>\n    <tr style=\"text-align: right;\">\n      <th></th>\n      <th>Country</th>\n      <th>Continent</th>\n      <th>1980</th>\n      <th>1981</th>\n      <th>1982</th>\n      <th>1983</th>\n      <th>1984</th>\n      <th>1985</th>\n      <th>1986</th>\n      <th>1987</th>\n      <th>...</th>\n      <th>2004</th>\n      <th>2005</th>\n      <th>2006</th>\n      <th>2007</th>\n      <th>2008</th>\n      <th>2009</th>\n      <th>2010</th>\n      <th>2011</th>\n      <th>2012</th>\n      <th>2013</th>\n    </tr>\n  </thead>\n  <tbody>\n    <tr>\n      <th>0</th>\n      <td>Afghanistan</td>\n      <td>Asia</td>\n      <td>16</td>\n      <td>39</td>\n      <td>39</td>\n      <td>47</td>\n      <td>71</td>\n      <td>340</td>\n      <td>496</td>\n      <td>741</td>\n      <td>...</td>\n      <td>2978</td>\n      <td>3436</td>\n      <td>3009</td>\n      <td>2652</td>\n      <td>2111</td>\n      <td>1746</td>\n      <td>1758</td>\n      <td>2203</td>\n      <td>2635</td>\n      <td>2004</td>\n    </tr>\n    <tr>\n      <th>1</th>\n      <td>Albania</td>\n      <td>Europe</td>\n      <td>1</td>\n      <td>0</td>\n      <td>0</td>\n      <td>0</td>\n      <td>0</td>\n      <td>0</td>\n      <td>1</td>\n      <td>2</td>\n      <td>...</td>\n      <td>1450</td>\n      <td>1223</td>\n      <td>856</td>\n      <td>702</td>\n      <td>560</td>\n      <td>716</td>\n      <td>561</td>\n      <td>539</td>\n      <td>620</td>\n      <td>603</td>\n    </tr>\n    <tr>\n      <th>2</th>\n      <td>Algeria</td>\n      <td>Africa</td>\n      <td>80</td>\n      <td>67</td>\n      <td>71</td>\n      <td>69</td>\n      <td>63</td>\n      <td>44</td>\n      <td>69</td>\n      <td>132</td>\n      <td>...</td>\n      <td>3616</td>\n      <td>3626</td>\n      <td>4807</td>\n      <td>3623</td>\n      <td>4005</td>\n      <td>5393</td>\n      <td>4752</td>\n      <td>4325</td>\n      <td>3774</td>\n      <td>4331</td>\n    </tr>\n    <tr>\n      <th>3</th>\n      <td>American Samoa</td>\n      <td>Oceania</td>\n      <td>0</td>\n      <td>1</td>\n      <td>0</td>\n      <td>0</td>\n      <td>0</td>\n      <td>0</td>\n      <td>0</td>\n      <td>1</td>\n      <td>...</td>\n      <td>0</td>\n      <td>0</td>\n      <td>1</td>\n      <td>0</td>\n      <td>0</td>\n      <td>0</td>\n      <td>0</td>\n      <td>0</td>\n      <td>0</td>\n      <td>0</td>\n    </tr>\n    <tr>\n      <th>4</th>\n      <td>Andorra</td>\n      <td>Europe</td>\n      <td>0</td>\n      <td>0</td>\n      <td>0</td>\n      <td>0</td>\n      <td>0</td>\n      <td>0</td>\n      <td>2</td>\n      <td>0</td>\n      <td>...</td>\n      <td>0</td>\n      <td>0</td>\n      <td>1</td>\n      <td>1</td>\n      <td>0</td>\n      <td>0</td>\n      <td>0</td>\n      <td>0</td>\n      <td>1</td>\n      <td>1</td>\n    </tr>\n  </tbody>\n</table>\n<p>5 rows × 36 columns</p>\n</div>"
          },
          "metadata": {}
        }
      ],
      "id": "bb7825be-1a09-46b2-bf9b-1931b97cf61b"
    },
    {
      "cell_type": "code",
      "source": "df.set_index('Country', inplace=True)\nyears= list(map(str, range(1980, 2014)))\ndf.head()",
      "metadata": {
        "tags": [],
        "collapsed": true,
        "jupyter": {
          "outputs_hidden": true
        },
        "trusted": true
      },
      "execution_count": 11,
      "outputs": [
        {
          "execution_count": 11,
          "output_type": "execute_result",
          "data": {
            "text/plain": "               Continent  1980  1981  1982  1983  1984  1985  1986  1987  \\\nCountry                                                                    \nAfghanistan         Asia    16    39    39    47    71   340   496   741   \nAlbania           Europe     1     0     0     0     0     0     1     2   \nAlgeria           Africa    80    67    71    69    63    44    69   132   \nAmerican Samoa   Oceania     0     1     0     0     0     0     0     1   \nAndorra           Europe     0     0     0     0     0     0     2     0   \n\n                1988  ...  2004  2005  2006  2007  2008  2009  2010  2011  \\\nCountry               ...                                                   \nAfghanistan      828  ...  2978  3436  3009  2652  2111  1746  1758  2203   \nAlbania            2  ...  1450  1223   856   702   560   716   561   539   \nAlgeria          242  ...  3616  3626  4807  3623  4005  5393  4752  4325   \nAmerican Samoa     0  ...     0     0     1     0     0     0     0     0   \nAndorra            0  ...     0     0     1     1     0     0     0     0   \n\n                2012  2013  \nCountry                     \nAfghanistan     2635  2004  \nAlbania          620   603  \nAlgeria         3774  4331  \nAmerican Samoa     0     0  \nAndorra            1     1  \n\n[5 rows x 35 columns]",
            "text/html": "<div>\n<style scoped>\n    .dataframe tbody tr th:only-of-type {\n        vertical-align: middle;\n    }\n\n    .dataframe tbody tr th {\n        vertical-align: top;\n    }\n\n    .dataframe thead th {\n        text-align: right;\n    }\n</style>\n<table border=\"1\" class=\"dataframe\">\n  <thead>\n    <tr style=\"text-align: right;\">\n      <th></th>\n      <th>Continent</th>\n      <th>1980</th>\n      <th>1981</th>\n      <th>1982</th>\n      <th>1983</th>\n      <th>1984</th>\n      <th>1985</th>\n      <th>1986</th>\n      <th>1987</th>\n      <th>1988</th>\n      <th>...</th>\n      <th>2004</th>\n      <th>2005</th>\n      <th>2006</th>\n      <th>2007</th>\n      <th>2008</th>\n      <th>2009</th>\n      <th>2010</th>\n      <th>2011</th>\n      <th>2012</th>\n      <th>2013</th>\n    </tr>\n    <tr>\n      <th>Country</th>\n      <th></th>\n      <th></th>\n      <th></th>\n      <th></th>\n      <th></th>\n      <th></th>\n      <th></th>\n      <th></th>\n      <th></th>\n      <th></th>\n      <th></th>\n      <th></th>\n      <th></th>\n      <th></th>\n      <th></th>\n      <th></th>\n      <th></th>\n      <th></th>\n      <th></th>\n      <th></th>\n      <th></th>\n    </tr>\n  </thead>\n  <tbody>\n    <tr>\n      <th>Afghanistan</th>\n      <td>Asia</td>\n      <td>16</td>\n      <td>39</td>\n      <td>39</td>\n      <td>47</td>\n      <td>71</td>\n      <td>340</td>\n      <td>496</td>\n      <td>741</td>\n      <td>828</td>\n      <td>...</td>\n      <td>2978</td>\n      <td>3436</td>\n      <td>3009</td>\n      <td>2652</td>\n      <td>2111</td>\n      <td>1746</td>\n      <td>1758</td>\n      <td>2203</td>\n      <td>2635</td>\n      <td>2004</td>\n    </tr>\n    <tr>\n      <th>Albania</th>\n      <td>Europe</td>\n      <td>1</td>\n      <td>0</td>\n      <td>0</td>\n      <td>0</td>\n      <td>0</td>\n      <td>0</td>\n      <td>1</td>\n      <td>2</td>\n      <td>2</td>\n      <td>...</td>\n      <td>1450</td>\n      <td>1223</td>\n      <td>856</td>\n      <td>702</td>\n      <td>560</td>\n      <td>716</td>\n      <td>561</td>\n      <td>539</td>\n      <td>620</td>\n      <td>603</td>\n    </tr>\n    <tr>\n      <th>Algeria</th>\n      <td>Africa</td>\n      <td>80</td>\n      <td>67</td>\n      <td>71</td>\n      <td>69</td>\n      <td>63</td>\n      <td>44</td>\n      <td>69</td>\n      <td>132</td>\n      <td>242</td>\n      <td>...</td>\n      <td>3616</td>\n      <td>3626</td>\n      <td>4807</td>\n      <td>3623</td>\n      <td>4005</td>\n      <td>5393</td>\n      <td>4752</td>\n      <td>4325</td>\n      <td>3774</td>\n      <td>4331</td>\n    </tr>\n    <tr>\n      <th>American Samoa</th>\n      <td>Oceania</td>\n      <td>0</td>\n      <td>1</td>\n      <td>0</td>\n      <td>0</td>\n      <td>0</td>\n      <td>0</td>\n      <td>0</td>\n      <td>1</td>\n      <td>0</td>\n      <td>...</td>\n      <td>0</td>\n      <td>0</td>\n      <td>1</td>\n      <td>0</td>\n      <td>0</td>\n      <td>0</td>\n      <td>0</td>\n      <td>0</td>\n      <td>0</td>\n      <td>0</td>\n    </tr>\n    <tr>\n      <th>Andorra</th>\n      <td>Europe</td>\n      <td>0</td>\n      <td>0</td>\n      <td>0</td>\n      <td>0</td>\n      <td>0</td>\n      <td>0</td>\n      <td>2</td>\n      <td>0</td>\n      <td>0</td>\n      <td>...</td>\n      <td>0</td>\n      <td>0</td>\n      <td>1</td>\n      <td>1</td>\n      <td>0</td>\n      <td>0</td>\n      <td>0</td>\n      <td>0</td>\n      <td>1</td>\n      <td>1</td>\n    </tr>\n  </tbody>\n</table>\n<p>5 rows × 35 columns</p>\n</div>"
          },
          "metadata": {}
        }
      ],
      "id": "800a0f20-7897-4c36-9d9a-b12881cc75a8"
    },
    {
      "cell_type": "code",
      "source": "df['Total']= df.sum(axis=1)\ndf.head()",
      "metadata": {
        "tags": [],
        "trusted": true
      },
      "execution_count": 12,
      "outputs": [
        {
          "name": "stderr",
          "text": "<ipython-input-12-76504661065d>:1: FutureWarning: Dropping of nuisance columns in DataFrame reductions (with 'numeric_only=None') is deprecated; in a future version this will raise TypeError.  Select only valid columns before calling the reduction.\n  df['Total']=df.sum(axis=1)\n",
          "output_type": "stream"
        },
        {
          "execution_count": 12,
          "output_type": "execute_result",
          "data": {
            "text/plain": "               Continent  1980  1981  1982  1983  1984  1985  1986  1987  \\\nCountry                                                                    \nAfghanistan         Asia    16    39    39    47    71   340   496   741   \nAlbania           Europe     1     0     0     0     0     0     1     2   \nAlgeria           Africa    80    67    71    69    63    44    69   132   \nAmerican Samoa   Oceania     0     1     0     0     0     0     0     1   \nAndorra           Europe     0     0     0     0     0     0     2     0   \n\n                1988  ...  2005  2006  2007  2008  2009  2010  2011  2012  \\\nCountry               ...                                                   \nAfghanistan      828  ...  3436  3009  2652  2111  1746  1758  2203  2635   \nAlbania            2  ...  1223   856   702   560   716   561   539   620   \nAlgeria          242  ...  3626  4807  3623  4005  5393  4752  4325  3774   \nAmerican Samoa     0  ...     0     1     0     0     0     0     0     0   \nAndorra            0  ...     0     1     1     0     0     0     0     1   \n\n                2013  Total  \nCountry                      \nAfghanistan     2004  58639  \nAlbania          603  15699  \nAlgeria         4331  69439  \nAmerican Samoa     0      6  \nAndorra            1     15  \n\n[5 rows x 36 columns]",
            "text/html": "<div>\n<style scoped>\n    .dataframe tbody tr th:only-of-type {\n        vertical-align: middle;\n    }\n\n    .dataframe tbody tr th {\n        vertical-align: top;\n    }\n\n    .dataframe thead th {\n        text-align: right;\n    }\n</style>\n<table border=\"1\" class=\"dataframe\">\n  <thead>\n    <tr style=\"text-align: right;\">\n      <th></th>\n      <th>Continent</th>\n      <th>1980</th>\n      <th>1981</th>\n      <th>1982</th>\n      <th>1983</th>\n      <th>1984</th>\n      <th>1985</th>\n      <th>1986</th>\n      <th>1987</th>\n      <th>1988</th>\n      <th>...</th>\n      <th>2005</th>\n      <th>2006</th>\n      <th>2007</th>\n      <th>2008</th>\n      <th>2009</th>\n      <th>2010</th>\n      <th>2011</th>\n      <th>2012</th>\n      <th>2013</th>\n      <th>Total</th>\n    </tr>\n    <tr>\n      <th>Country</th>\n      <th></th>\n      <th></th>\n      <th></th>\n      <th></th>\n      <th></th>\n      <th></th>\n      <th></th>\n      <th></th>\n      <th></th>\n      <th></th>\n      <th></th>\n      <th></th>\n      <th></th>\n      <th></th>\n      <th></th>\n      <th></th>\n      <th></th>\n      <th></th>\n      <th></th>\n      <th></th>\n      <th></th>\n    </tr>\n  </thead>\n  <tbody>\n    <tr>\n      <th>Afghanistan</th>\n      <td>Asia</td>\n      <td>16</td>\n      <td>39</td>\n      <td>39</td>\n      <td>47</td>\n      <td>71</td>\n      <td>340</td>\n      <td>496</td>\n      <td>741</td>\n      <td>828</td>\n      <td>...</td>\n      <td>3436</td>\n      <td>3009</td>\n      <td>2652</td>\n      <td>2111</td>\n      <td>1746</td>\n      <td>1758</td>\n      <td>2203</td>\n      <td>2635</td>\n      <td>2004</td>\n      <td>58639</td>\n    </tr>\n    <tr>\n      <th>Albania</th>\n      <td>Europe</td>\n      <td>1</td>\n      <td>0</td>\n      <td>0</td>\n      <td>0</td>\n      <td>0</td>\n      <td>0</td>\n      <td>1</td>\n      <td>2</td>\n      <td>2</td>\n      <td>...</td>\n      <td>1223</td>\n      <td>856</td>\n      <td>702</td>\n      <td>560</td>\n      <td>716</td>\n      <td>561</td>\n      <td>539</td>\n      <td>620</td>\n      <td>603</td>\n      <td>15699</td>\n    </tr>\n    <tr>\n      <th>Algeria</th>\n      <td>Africa</td>\n      <td>80</td>\n      <td>67</td>\n      <td>71</td>\n      <td>69</td>\n      <td>63</td>\n      <td>44</td>\n      <td>69</td>\n      <td>132</td>\n      <td>242</td>\n      <td>...</td>\n      <td>3626</td>\n      <td>4807</td>\n      <td>3623</td>\n      <td>4005</td>\n      <td>5393</td>\n      <td>4752</td>\n      <td>4325</td>\n      <td>3774</td>\n      <td>4331</td>\n      <td>69439</td>\n    </tr>\n    <tr>\n      <th>American Samoa</th>\n      <td>Oceania</td>\n      <td>0</td>\n      <td>1</td>\n      <td>0</td>\n      <td>0</td>\n      <td>0</td>\n      <td>0</td>\n      <td>0</td>\n      <td>1</td>\n      <td>0</td>\n      <td>...</td>\n      <td>0</td>\n      <td>1</td>\n      <td>0</td>\n      <td>0</td>\n      <td>0</td>\n      <td>0</td>\n      <td>0</td>\n      <td>0</td>\n      <td>0</td>\n      <td>6</td>\n    </tr>\n    <tr>\n      <th>Andorra</th>\n      <td>Europe</td>\n      <td>0</td>\n      <td>0</td>\n      <td>0</td>\n      <td>0</td>\n      <td>0</td>\n      <td>0</td>\n      <td>2</td>\n      <td>0</td>\n      <td>0</td>\n      <td>...</td>\n      <td>0</td>\n      <td>1</td>\n      <td>1</td>\n      <td>0</td>\n      <td>0</td>\n      <td>0</td>\n      <td>0</td>\n      <td>1</td>\n      <td>1</td>\n      <td>15</td>\n    </tr>\n  </tbody>\n</table>\n<p>5 rows × 36 columns</p>\n</div>"
          },
          "metadata": {}
        }
      ],
      "id": "4e8ae4e8-4563-4619-b7be-33aac12a170a"
    },
    {
      "cell_type": "markdown",
      "source": "## Task 2\n### Line Plot",
      "metadata": {},
      "id": "light-sharp"
    },
    {
      "cell_type": "markdown",
      "source": "Create a line plot for Denmark",
      "metadata": {},
      "id": "hybrid-convert"
    },
    {
      "cell_type": "code",
      "source": "",
      "metadata": {},
      "execution_count": null,
      "outputs": [],
      "id": "stock-situation"
    },
    {
      "cell_type": "code",
      "source": "",
      "metadata": {},
      "execution_count": null,
      "outputs": [],
      "id": "minus-cross"
    },
    {
      "cell_type": "markdown",
      "source": "#### Exercise  : Create a line plot for Australia - Red",
      "metadata": {},
      "id": "linear-scholar"
    },
    {
      "cell_type": "code",
      "source": "",
      "metadata": {},
      "execution_count": null,
      "outputs": [],
      "id": "opened-syndrome"
    },
    {
      "cell_type": "code",
      "source": "",
      "metadata": {},
      "execution_count": null,
      "outputs": [],
      "id": "pregnant-newsletter"
    },
    {
      "cell_type": "markdown",
      "source": "## Task 3\n### Multiple Plots",
      "metadata": {},
      "id": "alone-dallas"
    },
    {
      "cell_type": "markdown",
      "source": "Create multiple plots - countries: Japan and Malaysia.",
      "metadata": {},
      "id": "empty-agenda"
    },
    {
      "cell_type": "code",
      "source": "",
      "metadata": {},
      "execution_count": null,
      "outputs": [],
      "id": "surgical-compensation"
    },
    {
      "cell_type": "code",
      "source": "",
      "metadata": {},
      "execution_count": null,
      "outputs": [],
      "id": "round-london"
    },
    {
      "cell_type": "markdown",
      "source": "#### Exersice: Line Plot Turkey and Switzerland",
      "metadata": {},
      "id": "formed-television"
    },
    {
      "cell_type": "code",
      "source": "",
      "metadata": {},
      "execution_count": null,
      "outputs": [],
      "id": "ruled-solomon"
    },
    {
      "cell_type": "code",
      "source": "",
      "metadata": {},
      "execution_count": null,
      "outputs": [],
      "id": "previous-method"
    },
    {
      "cell_type": "markdown",
      "source": "#### Exercise 2 : Line plot the top 5 countries that contributed the most to immigration to Canada",
      "metadata": {},
      "id": "vertical-window"
    },
    {
      "cell_type": "code",
      "source": "",
      "metadata": {},
      "execution_count": null,
      "outputs": [],
      "id": "threatened-geneva"
    },
    {
      "cell_type": "code",
      "source": "",
      "metadata": {},
      "execution_count": null,
      "outputs": [],
      "id": "upset-township"
    },
    {
      "cell_type": "code",
      "source": "",
      "metadata": {},
      "execution_count": null,
      "outputs": [],
      "id": "fallen-clearance"
    },
    {
      "cell_type": "markdown",
      "source": "## Task 4\n### Histograms",
      "metadata": {},
      "id": "extra-picking"
    },
    {
      "cell_type": "markdown",
      "source": "The immigration distribution from Singapore for years 1980 - 2013",
      "metadata": {},
      "id": "revised-trance"
    },
    {
      "cell_type": "code",
      "source": "",
      "metadata": {},
      "execution_count": null,
      "outputs": [],
      "id": "danish-memorial"
    },
    {
      "cell_type": "code",
      "source": "",
      "metadata": {},
      "execution_count": null,
      "outputs": [],
      "id": "canadian-department"
    },
    {
      "cell_type": "markdown",
      "source": "The immigration distribution for Australia, Singapore, and Romania for years 1980 - 2013",
      "metadata": {},
      "id": "meaningful-kingston"
    },
    {
      "cell_type": "code",
      "source": "",
      "metadata": {},
      "execution_count": null,
      "outputs": [],
      "id": "catholic-laundry"
    },
    {
      "cell_type": "code",
      "source": "",
      "metadata": {},
      "execution_count": null,
      "outputs": [],
      "id": "rental-installation"
    },
    {
      "cell_type": "markdown",
      "source": "#### Exercise : The immigration distribution from Italy, Greece, and Kenya, with transparency 40%",
      "metadata": {},
      "id": "necessary-bradley"
    },
    {
      "cell_type": "code",
      "source": "",
      "metadata": {},
      "execution_count": null,
      "outputs": [],
      "id": "cloudy-shakespeare"
    },
    {
      "cell_type": "code",
      "source": "",
      "metadata": {},
      "execution_count": null,
      "outputs": [],
      "id": "institutional-cleaning"
    },
    {
      "cell_type": "markdown",
      "source": "## Task 5\n### Bar Chart\n### Vertical Bar Plot",
      "metadata": {},
      "id": "frozen-hello"
    },
    {
      "cell_type": "markdown",
      "source": "Bar Chart - country = Kenya",
      "metadata": {},
      "id": "accurate-editor"
    },
    {
      "cell_type": "code",
      "source": "",
      "metadata": {},
      "execution_count": null,
      "outputs": [],
      "id": "comic-major"
    },
    {
      "cell_type": "code",
      "source": "",
      "metadata": {},
      "execution_count": null,
      "outputs": [],
      "id": "nominated-milwaukee"
    },
    {
      "cell_type": "markdown",
      "source": "### Horizontal Bar Plot",
      "metadata": {},
      "id": "inclusive-escape"
    },
    {
      "cell_type": "markdown",
      "source": "List of named colors supported by matplotlib [here](https://matplotlib.org/stable/gallery/color/named_colors.html)",
      "metadata": {},
      "id": "together-edward"
    },
    {
      "cell_type": "code",
      "source": "",
      "metadata": {},
      "execution_count": null,
      "outputs": [],
      "id": "faced-illness"
    },
    {
      "cell_type": "markdown",
      "source": "## Task 6\n### Pie Chart",
      "metadata": {},
      "id": "integrated-yahoo"
    },
    {
      "cell_type": "code",
      "source": "",
      "metadata": {},
      "execution_count": null,
      "outputs": [],
      "id": "palestinian-internet"
    },
    {
      "cell_type": "markdown",
      "source": "Group countries by continents",
      "metadata": {},
      "id": "announced-bottle"
    },
    {
      "cell_type": "code",
      "source": "",
      "metadata": {},
      "execution_count": null,
      "outputs": [],
      "id": "economic-cliff"
    },
    {
      "cell_type": "markdown",
      "source": "Create a pie chart to illustrate numerical proportion of immigrants from each continent",
      "metadata": {},
      "id": "rapid-joseph"
    },
    {
      "cell_type": "code",
      "source": "",
      "metadata": {},
      "execution_count": null,
      "outputs": [],
      "id": "supposed-license"
    },
    {
      "cell_type": "markdown",
      "source": "List of named colors supported by matplotlib [here](https://matplotlib.org/stable/gallery/color/named_colors.html)",
      "metadata": {},
      "id": "intense-hunter"
    },
    {
      "cell_type": "code",
      "source": "",
      "metadata": {},
      "execution_count": null,
      "outputs": [],
      "id": "foreign-jewelry"
    },
    {
      "cell_type": "markdown",
      "source": "#### Exercise : Pie chart - continents - 1980",
      "metadata": {},
      "id": "brown-sharp"
    },
    {
      "cell_type": "code",
      "source": "",
      "metadata": {},
      "execution_count": null,
      "outputs": [],
      "id": "arctic-pierce"
    },
    {
      "cell_type": "markdown",
      "source": "## Task 7\n### Box Plot",
      "metadata": {},
      "id": "personalized-burlington"
    },
    {
      "cell_type": "markdown",
      "source": "Create a box plot for Ireland",
      "metadata": {},
      "id": "internal-support"
    },
    {
      "cell_type": "code",
      "source": "",
      "metadata": {},
      "execution_count": null,
      "outputs": [],
      "id": "civilian-terrorism"
    },
    {
      "cell_type": "markdown",
      "source": "Multiple datasets - Venezuela (Bolivarian Republic of) and Cuba",
      "metadata": {},
      "id": "detected-worker"
    },
    {
      "cell_type": "code",
      "source": "",
      "metadata": {},
      "execution_count": null,
      "outputs": [],
      "id": "existing-minister"
    },
    {
      "cell_type": "code",
      "source": "",
      "metadata": {
        "scrolled": true
      },
      "execution_count": null,
      "outputs": [],
      "id": "unlike-assist"
    },
    {
      "cell_type": "markdown",
      "source": "Exercise: Create a box plot for 3 countries ('Guyana', 'Haiti', 'Mexico') , color = red",
      "metadata": {},
      "id": "comfortable-princeton"
    },
    {
      "cell_type": "code",
      "source": "",
      "metadata": {},
      "execution_count": null,
      "outputs": [],
      "id": "deluxe-dayton"
    },
    {
      "cell_type": "code",
      "source": "",
      "metadata": {},
      "execution_count": null,
      "outputs": [],
      "id": "sunrise-routine"
    },
    {
      "cell_type": "markdown",
      "source": "## Task 8\n### Sactter Plot",
      "metadata": {},
      "id": "suited-greece"
    },
    {
      "cell_type": "markdown",
      "source": "The correlation between two variables; years, and total number of immigrants",
      "metadata": {},
      "id": "english-novel"
    },
    {
      "cell_type": "code",
      "source": "",
      "metadata": {},
      "execution_count": null,
      "outputs": [],
      "id": "better-cinema"
    },
    {
      "cell_type": "code",
      "source": "",
      "metadata": {},
      "execution_count": null,
      "outputs": [],
      "id": "metric-guess"
    },
    {
      "cell_type": "markdown",
      "source": "Exercise: Create a scatter plot for the top_5 countries dataset",
      "metadata": {},
      "id": "desperate-setting"
    },
    {
      "cell_type": "code",
      "source": "",
      "metadata": {},
      "execution_count": null,
      "outputs": [],
      "id": "future-music"
    },
    {
      "cell_type": "code",
      "source": "",
      "metadata": {},
      "execution_count": null,
      "outputs": [],
      "id": "competent-import"
    },
    {
      "cell_type": "code",
      "source": "",
      "metadata": {},
      "execution_count": null,
      "outputs": [],
      "id": "entire-constant"
    },
    {
      "cell_type": "markdown",
      "source": "## Task 9\n### Subplots",
      "metadata": {},
      "id": "advance-feeding"
    },
    {
      "cell_type": "markdown",
      "source": " 2 line plots for Cuba and Jordan",
      "metadata": {},
      "id": "prerequisite-granny"
    },
    {
      "cell_type": "code",
      "source": "",
      "metadata": {},
      "execution_count": null,
      "outputs": [],
      "id": "green-blanket"
    },
    {
      "cell_type": "code",
      "source": "",
      "metadata": {},
      "execution_count": null,
      "outputs": [],
      "id": "complimentary-mailman"
    },
    {
      "cell_type": "code",
      "source": "",
      "metadata": {},
      "execution_count": null,
      "outputs": [],
      "id": "assigned-arnold"
    },
    {
      "cell_type": "markdown",
      "source": "<h1 align='center'> * Congratulations * </h1>",
      "metadata": {},
      "id": "finished-winning"
    }
  ]
}